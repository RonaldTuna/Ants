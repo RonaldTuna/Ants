{
  "nbformat": 4,
  "nbformat_minor": 0,
  "metadata": {
    "colab": {
      "provenance": [],
      "authorship_tag": "ABX9TyP7KdgE1j3FLISa4LViz4/F",
      "include_colab_link": true
    },
    "kernelspec": {
      "name": "python3",
      "display_name": "Python 3"
    },
    "language_info": {
      "name": "python"
    }
  },
  "cells": [
    {
      "cell_type": "markdown",
      "metadata": {
        "id": "view-in-github",
        "colab_type": "text"
      },
      "source": [
        "<a href=\"https://colab.research.google.com/github/RonaldTuna/AntsNCereal/blob/main/Ants.ipynb\" target=\"_parent\"><img src=\"https://colab.research.google.com/assets/colab-badge.svg\" alt=\"Open In Colab\"/></a>"
      ]
    },
    {
      "cell_type": "markdown",
      "source": [
        "#  ANTS\n",
        "\n",
        "A 100x100 grid world with 10 randomly placed pieces of food. Note that food cannot share the same coordinate.\n",
        "An ant class that randomly moves up, down, left, or right at each time step. If an ant tries to step beyond the bounds of the box, it does nothing.\n",
        "\n",
        "Note that food is consumed if an ant shares the same coordinate as the food. Ants can share the same coordinate.\n",
        "\n",
        "Run 1000 simulations with 100 ants, each for 100 time steps. Report the mean and standard deviation of the total food eaten. Feel free to use any Python packages as needed."
      ],
      "metadata": {
        "id": "EQYszEg5PY6p"
      }
    },
    {
      "cell_type": "code",
      "source": [
        "import math\n",
        "import random\n",
        "import numpy as np\n",
        "import pandas as pd\n",
        "\n",
        "#define global variables used to define simulation parameters\n",
        "iterations = 1000 \n",
        "steps = 100\n",
        "num_ants = 100\n",
        "grid_width = 100\n",
        "grid_height = 100\n",
        "food_items = 10\n",
        "start = (50,0)"
      ],
      "metadata": {
        "id": "l2h845hwPXcH"
      },
      "execution_count": 1,
      "outputs": []
    },
    {
      "cell_type": "code",
      "execution_count": 2,
      "metadata": {
        "id": "AMvjDiVY1y6z"
      },
      "outputs": [],
      "source": [
        "#define functions used in simulation\n",
        "\n",
        "#returns a random point within the grid of grid_width x grid_height\n",
        "def get_rand_point():\n",
        "  x,y = random.randrange(0,grid_width,1), random.randrange(0,grid_height,1)\n",
        "  return x,y\n",
        "\n",
        "#moves point in a random direction. No movement if it tries to move off an edge.\n",
        "def move(point):\n",
        "  #find random int between 0 and 4 to determine what direction to attempt to move\n",
        "  direction = random.randint(0,3)\n",
        "  \n",
        "  #case statement using direction int\n",
        "  if direction == 0:\n",
        "    #move right\n",
        "    if(point[0] < grid_width - 1):\n",
        "      return point[0] + 1, point[1]\n",
        "    else:\n",
        "      return point\n",
        "  elif direction == 1:\n",
        "    #move left\n",
        "    if(point[0] > 0):\n",
        "      return point[0] - 1, point[1]\n",
        "    else:\n",
        "      return point\n",
        "  elif direction == 2:\n",
        "    #move down\n",
        "    if(point[1] > 0):\n",
        "      return point[0], point[1] - 1\n",
        "    else:\n",
        "      return point\n",
        "  elif direction == 3:\n",
        "    #move up\n",
        "    if(point[1] < grid_height - 1):\n",
        "      return point[0], point[1] + 1\n",
        "    else:\n",
        "      return point\n"
      ]
    },
    {
      "cell_type": "markdown",
      "source": [
        "Where to place the ants initially was left up to the assessment taker in this case. I chose to have all the ants start at a preselecsted spot on the grid, as this closely resembles my experience with them. Our rooms are mainly sealed to the outside, save for an airvent or window. This often means that the ants that do make it inside enter from the same crack or two at the edge of a room."
      ],
      "metadata": {
        "id": "6bWwvlUjGUde"
      }
    },
    {
      "cell_type": "code",
      "source": [
        "#declare array to record # of food items eaten each iteration\n",
        "eaten=[]\n",
        "\n",
        "#run simulation iteration # of times. 1000 in this case\n",
        "for j in range(iterations):\n",
        "  #create 10 food items at random, non-overlapping spots\n",
        "  food = set(tuple())\n",
        "  while len(food) < food_items:\n",
        "    food.add(get_rand_point())\n",
        "\n",
        "  #create 100 ants, and place them on the grid at the start position defined above\n",
        "  ants = []\n",
        "  for i in range(num_ants):\n",
        "    ants.append(start)\n",
        "    #check if any ants are placed onto food\n",
        "    if start in food:\n",
        "        food.remove(start)\n",
        "\n",
        "  #step 100 times\n",
        "  for i in range(steps):\n",
        "    for k in range(len(ants)):\n",
        "      ants[k] = move(ants[k])\n",
        "      #if ant steps onto the same coordinates as food, the food is eaten\n",
        "      if ants[k] in food:\n",
        "        food.remove(ants[k])\n",
        "    \n",
        "  #record # of food items eaten\n",
        "  eaten.append(food_items - len(food))\n",
        "\n",
        "#report the mean and standard deviation of the total food eaten\n",
        "print(\"Mean of # of food items eaten after \" + str(iterations) + \" iterations: \" + str(sum(eaten)/len(eaten)))\n",
        "print(\"Standard Deviation of # of food items eaten after \" + str(iterations) + \" iterations: \" + str(np.std(eaten)))"
      ],
      "metadata": {
        "id": "N4d-JqV02AA7",
        "colab": {
          "base_uri": "https://localhost:8080/"
        },
        "outputId": "77d1d21a-f3f9-4a2f-ba57-2ffb3f24a538"
      },
      "execution_count": 3,
      "outputs": [
        {
          "output_type": "stream",
          "name": "stdout",
          "text": [
            "Mean of # of food items eaten after 1000 iterations: 0.437\n",
            "Standard Deviation of # of food items eaten after 1000 iterations: 0.6372056183054259\n"
          ]
        }
      ]
    }
  ]
}